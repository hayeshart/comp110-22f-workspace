{
 "cells": [
  {
   "cell_type": "markdown",
   "metadata": {},
   "source": [
    "# Quantifying Shakespeare \n",
    "\n",
    "Downloading the plain text corpus of Shakespeare's works from: <https://bit.ly/shakespeare-txt>\n",
    "\n",
    "## Plan of Action \n",
    "\n",
    "1. Read every line of text into a list of strings \n",
    "2. Count the frequencies of each letter \n",
    "3. Visualize the frequencies "
   ]
  },
  {
   "cell_type": "code",
   "execution_count": 9,
   "metadata": {},
   "outputs": [
    {
     "name": "stdout",
     "output_type": "stream",
     "text": [
      "124456\n"
     ]
    }
   ],
   "source": [
    "# Read lines from the filr \n",
    "\n",
    "from io import TextIOWrapper \n",
    "\n",
    "def read_lines(filename: str) -> list[str]: \n",
    "    \"\"\"Reading every line from filename into a list of strs.\"\"\"\n",
    "    lines: list[str] = []\n",
    "    file_handle: TextIOWrapper = open(filename, \"r\")\n",
    "    for line in file_handle: \n",
    "        line = line.lower()\n",
    "       \n",
    "        lines.append(line)\n",
    "    return lines\n",
    "\n",
    "shakespeare_lines: list[str] = read_lines(\"./shakespeare.txt\")\n",
    "print(len(shakespeare_lines))"
   ]
  },
  {
   "cell_type": "code",
   "execution_count": 18,
   "metadata": {},
   "outputs": [
    {
     "name": "stdout",
     "output_type": "stream",
     "text": [
      "Unexpected exception formatting exception. Falling back to standard exception\n"
     ]
    },
    {
     "name": "stderr",
     "output_type": "stream",
     "text": [
      "Traceback (most recent call last):\n",
      "  File \"/Users/hayeshartpence/Library/Python/3.10/lib/python/site-packages/IPython/core/interactiveshell.py\", line 3398, in run_code\n",
      "    exec(code_obj, self.user_global_ns, self.user_ns)\n",
      "  File \"/var/folders/zc/4f61p95x28n8m11cg99bjk2h0000gn/T/ipykernel_21095/3823089727.py\", line 29, in <cell line: 29>\n",
      "    shakespeare_letters: dict[str, int] = count_letters(shakespeare_lines)\n",
      "  File \"/var/folders/zc/4f61p95x28n8m11cg99bjk2h0000gn/T/ipykernel_21095/3823089727.py\", line -1, in count_letters\n",
      "KeyboardInterrupt\n",
      "\n",
      "During handling of the above exception, another exception occurred:\n",
      "\n",
      "Traceback (most recent call last):\n",
      "  File \"/Users/hayeshartpence/Library/Python/3.10/lib/python/site-packages/IPython/core/interactiveshell.py\", line 1993, in showtraceback\n",
      "    stb = self.InteractiveTB.structured_traceback(\n",
      "  File \"/Users/hayeshartpence/Library/Python/3.10/lib/python/site-packages/IPython/core/ultratb.py\", line 1118, in structured_traceback\n",
      "    return FormattedTB.structured_traceback(\n",
      "  File \"/Users/hayeshartpence/Library/Python/3.10/lib/python/site-packages/IPython/core/ultratb.py\", line 1012, in structured_traceback\n",
      "    return VerboseTB.structured_traceback(\n",
      "  File \"/Users/hayeshartpence/Library/Python/3.10/lib/python/site-packages/IPython/core/ultratb.py\", line 865, in structured_traceback\n",
      "    formatted_exception = self.format_exception_as_a_whole(etype, evalue, etb, number_of_lines_of_context,\n",
      "  File \"/Users/hayeshartpence/Library/Python/3.10/lib/python/site-packages/IPython/core/ultratb.py\", line 818, in format_exception_as_a_whole\n",
      "    frames.append(self.format_record(r))\n",
      "  File \"/Users/hayeshartpence/Library/Python/3.10/lib/python/site-packages/IPython/core/ultratb.py\", line 736, in format_record\n",
      "    result += ''.join(_format_traceback_lines(frame_info.lines, Colors, self.has_colors, lvals))\n",
      "  File \"/Users/hayeshartpence/Library/Python/3.10/lib/python/site-packages/stack_data/utils.py\", line 145, in cached_property_wrapper\n",
      "    value = obj.__dict__[self.func.__name__] = self.func(obj)\n",
      "  File \"/Users/hayeshartpence/Library/Python/3.10/lib/python/site-packages/stack_data/core.py\", line 699, in lines\n",
      "    pieces = self.included_pieces\n",
      "  File \"/Users/hayeshartpence/Library/Python/3.10/lib/python/site-packages/stack_data/utils.py\", line 145, in cached_property_wrapper\n",
      "    value = obj.__dict__[self.func.__name__] = self.func(obj)\n",
      "  File \"/Users/hayeshartpence/Library/Python/3.10/lib/python/site-packages/stack_data/core.py\", line 647, in included_pieces\n",
      "    pos = scope_pieces.index(self.executing_piece)\n",
      "  File \"/Users/hayeshartpence/Library/Python/3.10/lib/python/site-packages/stack_data/utils.py\", line 145, in cached_property_wrapper\n",
      "    value = obj.__dict__[self.func.__name__] = self.func(obj)\n",
      "  File \"/Users/hayeshartpence/Library/Python/3.10/lib/python/site-packages/stack_data/core.py\", line 626, in executing_piece\n",
      "    return only(\n",
      "  File \"/Users/hayeshartpence/Library/Python/3.10/lib/python/site-packages/executing/executing.py\", line 164, in only\n",
      "    raise NotOneValueFound('Expected one value, found 0')\n",
      "executing.executing.NotOneValueFound: Expected one value, found 0\n"
     ]
    }
   ],
   "source": [
    "# Tally up the characters of the works \n",
    "\n",
    "# Goal: Define a function named tally \n",
    "# Give the functions 2 parms \n",
    "# 1. a dictionary reference of key type str, value type int \n",
    "# 2. a str key \n",
    "# If the key is in the dictionary, increase its count by 1, \n",
    "# Otherwise: set its value to 1 \n",
    "# Return nothing because you've mutated the dictionary \n",
    "\n",
    "def tally(counts: dict[str, int], key: str) -> None: \n",
    "    \"\"\"This function tallys the amount of characters in a word.\"\"\"\n",
    "    if key in counts: \n",
    "        counts[key] += 1 \n",
    "    else: \n",
    "        counts[key] = 1\n",
    "\n",
    "def count_letters(lines: list[str]) -> dict[str, int]: \n",
    "    counts: dict[str, int] = {}\n",
    "    # Goal: Loop through every line in lines\n",
    "    #   For each line loop through every character is a line \n",
    "    #       Use your tally function to tally that character up \n",
    "    for line in lines: \n",
    "        for char in lines: \n",
    "            if char >= 'a' and char <= 'z':\n",
    "                tally(counts, char)\n",
    "    return counts\n",
    "\n",
    "shakespeare_letters: dict[str, int] = count_letters(shakespeare_lines)\n",
    "print(shakespeare_letters)"
   ]
  },
  {
   "cell_type": "code",
   "execution_count": null,
   "metadata": {},
   "outputs": [],
   "source": [
    "from matplotlib import pyplot \n",
    "\n",
    "pyplot.title(\"Frequencies of Letters\")\n",
    "pyplot.xlabel(\"Letters\")\n",
    "pyplot.ylabel(\"Frequencies\")\n",
    "lables: list[str] = list(shakespeare_letters.keys())\n",
    "values: list[int] = list(shakespeare_letters.values())\n",
    "pyplot.bar(lables, values)"
   ]
  }
 ],
 "metadata": {
  "kernelspec": {
   "display_name": "Python 3.10.6 64-bit",
   "language": "python",
   "name": "python3"
  },
  "language_info": {
   "codemirror_mode": {
    "name": "ipython",
    "version": 3
   },
   "file_extension": ".py",
   "mimetype": "text/x-python",
   "name": "python",
   "nbconvert_exporter": "python",
   "pygments_lexer": "ipython3",
   "version": "3.10.6"
  },
  "orig_nbformat": 4,
  "vscode": {
   "interpreter": {
    "hash": "aee8b7b246df8f9039afb4144a1f6fd8d2ca17a180786b69acc140d282b71a49"
   }
  }
 },
 "nbformat": 4,
 "nbformat_minor": 2
}
